{
 "cells": [
  {
   "cell_type": "code",
   "execution_count": 1,
   "metadata": {
    "execution": {
     "iopub.execute_input": "2024-02-28T17:35:47.945211Z",
     "iopub.status.busy": "2024-02-28T17:35:47.944801Z",
     "iopub.status.idle": "2024-02-28T17:35:48.175824Z",
     "shell.execute_reply": "2024-02-28T17:35:48.175286Z"
    }
   },
   "outputs": [],
   "source": [
    "import pandas as pd\n"
   ]
  },
  {
   "cell_type": "markdown",
   "metadata": {},
   "source": [
    "TODO\n"
   ]
  },
  {
   "cell_type": "code",
   "execution_count": 2,
   "metadata": {
    "execution": {
     "iopub.execute_input": "2024-02-28T17:35:48.178872Z",
     "iopub.status.busy": "2024-02-28T17:35:48.178281Z",
     "iopub.status.idle": "2024-02-28T17:35:48.181344Z",
     "shell.execute_reply": "2024-02-28T17:35:48.180755Z"
    }
   },
   "outputs": [],
   "source": [
    "#TODO\n"
   ]
  }
 ],
 "metadata": {
  "kernelspec": {
   "display_name": "Python 3",
   "language": "python",
   "name": "python3"
  },
  "language_info": {
   "codemirror_mode": {
    "name": "ipython",
    "version": 3
   },
   "file_extension": ".py",
   "mimetype": "text/x-python",
   "name": "python",
   "nbconvert_exporter": "python",
   "pygments_lexer": "ipython3",
   "version": "3.10.12"
  }
 },
 "nbformat": 4,
 "nbformat_minor": 4
}
