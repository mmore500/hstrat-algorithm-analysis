{
 "cells": [
  {
   "cell_type": "code",
   "execution_count": 1,
   "metadata": {
    "execution": {
     "iopub.execute_input": "2024-06-30T00:11:06.742386Z",
     "iopub.status.busy": "2024-06-30T00:11:06.742012Z",
     "iopub.status.idle": "2024-06-30T00:11:07.009543Z",
     "shell.execute_reply": "2024-06-30T00:11:07.008885Z"
    }
   },
   "outputs": [],
   "source": [
    "import pandas as pd\n"
   ]
  },
  {
   "cell_type": "markdown",
   "metadata": {},
   "source": [
    "TODO\n"
   ]
  },
  {
   "cell_type": "code",
   "execution_count": 2,
   "metadata": {
    "execution": {
     "iopub.execute_input": "2024-06-30T00:11:07.012754Z",
     "iopub.status.busy": "2024-06-30T00:11:07.012191Z",
     "iopub.status.idle": "2024-06-30T00:11:07.014904Z",
     "shell.execute_reply": "2024-06-30T00:11:07.014446Z"
    }
   },
   "outputs": [],
   "source": [
    "#TODO\n"
   ]
  }
 ],
 "metadata": {
  "kernelspec": {
   "display_name": "Python 3",
   "language": "python",
   "name": "python3"
  },
  "language_info": {
   "codemirror_mode": {
    "name": "ipython",
    "version": 3
   },
   "file_extension": ".py",
   "mimetype": "text/x-python",
   "name": "python",
   "nbconvert_exporter": "python",
   "pygments_lexer": "ipython3",
   "version": "3.10.12"
  }
 },
 "nbformat": 4,
 "nbformat_minor": 4
}
