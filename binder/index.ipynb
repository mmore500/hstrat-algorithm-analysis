{
 "cells": [
  {
   "cell_type": "code",
   "execution_count": 1,
   "metadata": {
    "execution": {
     "iopub.execute_input": "2024-09-24T23:58:00.753261Z",
     "iopub.status.busy": "2024-09-24T23:58:00.753086Z",
     "iopub.status.idle": "2024-09-24T23:58:00.978243Z",
     "shell.execute_reply": "2024-09-24T23:58:00.977582Z"
    }
   },
   "outputs": [],
   "source": [
    "import pandas as pd\n"
   ]
  },
  {
   "cell_type": "markdown",
   "metadata": {},
   "source": [
    "TODO\n"
   ]
  },
  {
   "cell_type": "code",
   "execution_count": 2,
   "metadata": {
    "execution": {
     "iopub.execute_input": "2024-09-24T23:58:00.981107Z",
     "iopub.status.busy": "2024-09-24T23:58:00.980724Z",
     "iopub.status.idle": "2024-09-24T23:58:00.983597Z",
     "shell.execute_reply": "2024-09-24T23:58:00.982989Z"
    }
   },
   "outputs": [],
   "source": [
    "#TODO\n"
   ]
  }
 ],
 "metadata": {
  "kernelspec": {
   "display_name": "Python 3",
   "language": "python",
   "name": "python3"
  },
  "language_info": {
   "codemirror_mode": {
    "name": "ipython",
    "version": 3
   },
   "file_extension": ".py",
   "mimetype": "text/x-python",
   "name": "python",
   "nbconvert_exporter": "python",
   "pygments_lexer": "ipython3",
   "version": "3.10.12"
  }
 },
 "nbformat": 4,
 "nbformat_minor": 4
}
