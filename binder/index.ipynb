{
 "cells": [
  {
   "cell_type": "code",
   "execution_count": 1,
   "metadata": {
    "execution": {
     "iopub.execute_input": "2025-02-02T00:12:35.691062Z",
     "iopub.status.busy": "2025-02-02T00:12:35.690890Z",
     "iopub.status.idle": "2025-02-02T00:12:35.932901Z",
     "shell.execute_reply": "2025-02-02T00:12:35.932240Z"
    }
   },
   "outputs": [],
   "source": [
    "import pandas as pd\n"
   ]
  },
  {
   "cell_type": "markdown",
   "metadata": {},
   "source": [
    "TODO\n"
   ]
  },
  {
   "cell_type": "code",
   "execution_count": 2,
   "metadata": {
    "execution": {
     "iopub.execute_input": "2025-02-02T00:12:35.935905Z",
     "iopub.status.busy": "2025-02-02T00:12:35.935399Z",
     "iopub.status.idle": "2025-02-02T00:12:35.938149Z",
     "shell.execute_reply": "2025-02-02T00:12:35.937615Z"
    }
   },
   "outputs": [],
   "source": [
    "#TODO\n"
   ]
  }
 ],
 "metadata": {
  "kernelspec": {
   "display_name": "Python 3",
   "language": "python",
   "name": "python3"
  },
  "language_info": {
   "codemirror_mode": {
    "name": "ipython",
    "version": 3
   },
   "file_extension": ".py",
   "mimetype": "text/x-python",
   "name": "python",
   "nbconvert_exporter": "python",
   "pygments_lexer": "ipython3",
   "version": "3.10.12"
  }
 },
 "nbformat": 4,
 "nbformat_minor": 4
}
