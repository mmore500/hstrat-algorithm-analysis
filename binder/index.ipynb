{
 "cells": [
  {
   "cell_type": "code",
   "execution_count": 1,
   "metadata": {
    "execution": {
     "iopub.execute_input": "2025-04-13T00:37:38.806432Z",
     "iopub.status.busy": "2025-04-13T00:37:38.806260Z",
     "iopub.status.idle": "2025-04-13T00:37:39.053726Z",
     "shell.execute_reply": "2025-04-13T00:37:39.053050Z"
    }
   },
   "outputs": [],
   "source": [
    "import pandas as pd\n"
   ]
  },
  {
   "cell_type": "markdown",
   "metadata": {},
   "source": [
    "TODO\n"
   ]
  },
  {
   "cell_type": "code",
   "execution_count": 2,
   "metadata": {
    "execution": {
     "iopub.execute_input": "2025-04-13T00:37:39.056782Z",
     "iopub.status.busy": "2025-04-13T00:37:39.056362Z",
     "iopub.status.idle": "2025-04-13T00:37:39.059129Z",
     "shell.execute_reply": "2025-04-13T00:37:39.058649Z"
    }
   },
   "outputs": [],
   "source": [
    "#TODO\n"
   ]
  }
 ],
 "metadata": {
  "kernelspec": {
   "display_name": "Python 3",
   "language": "python",
   "name": "python3"
  },
  "language_info": {
   "codemirror_mode": {
    "name": "ipython",
    "version": 3
   },
   "file_extension": ".py",
   "mimetype": "text/x-python",
   "name": "python",
   "nbconvert_exporter": "python",
   "pygments_lexer": "ipython3",
   "version": "3.10.12"
  }
 },
 "nbformat": 4,
 "nbformat_minor": 4
}
