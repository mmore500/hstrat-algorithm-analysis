{
 "cells": [
  {
   "cell_type": "code",
   "execution_count": 1,
   "metadata": {
    "execution": {
     "iopub.execute_input": "2024-07-28T00:11:40.475941Z",
     "iopub.status.busy": "2024-07-28T00:11:40.475768Z",
     "iopub.status.idle": "2024-07-28T00:11:40.708847Z",
     "shell.execute_reply": "2024-07-28T00:11:40.708215Z"
    }
   },
   "outputs": [],
   "source": [
    "import pandas as pd\n"
   ]
  },
  {
   "cell_type": "markdown",
   "metadata": {},
   "source": [
    "TODO\n"
   ]
  },
  {
   "cell_type": "code",
   "execution_count": 2,
   "metadata": {
    "execution": {
     "iopub.execute_input": "2024-07-28T00:11:40.711739Z",
     "iopub.status.busy": "2024-07-28T00:11:40.711500Z",
     "iopub.status.idle": "2024-07-28T00:11:40.714295Z",
     "shell.execute_reply": "2024-07-28T00:11:40.713807Z"
    }
   },
   "outputs": [],
   "source": [
    "#TODO\n"
   ]
  }
 ],
 "metadata": {
  "kernelspec": {
   "display_name": "Python 3",
   "language": "python",
   "name": "python3"
  },
  "language_info": {
   "codemirror_mode": {
    "name": "ipython",
    "version": 3
   },
   "file_extension": ".py",
   "mimetype": "text/x-python",
   "name": "python",
   "nbconvert_exporter": "python",
   "pygments_lexer": "ipython3",
   "version": "3.10.12"
  }
 },
 "nbformat": 4,
 "nbformat_minor": 4
}
