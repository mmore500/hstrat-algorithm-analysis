{
 "cells": [
  {
   "cell_type": "code",
   "execution_count": 1,
   "metadata": {
    "execution": {
     "iopub.execute_input": "2024-09-24T22:43:13.167698Z",
     "iopub.status.busy": "2024-09-24T22:43:13.167524Z",
     "iopub.status.idle": "2024-09-24T22:43:13.385554Z",
     "shell.execute_reply": "2024-09-24T22:43:13.385018Z"
    }
   },
   "outputs": [],
   "source": [
    "import pandas as pd\n"
   ]
  },
  {
   "cell_type": "markdown",
   "metadata": {},
   "source": [
    "TODO\n"
   ]
  },
  {
   "cell_type": "code",
   "execution_count": 2,
   "metadata": {
    "execution": {
     "iopub.execute_input": "2024-09-24T22:43:13.388411Z",
     "iopub.status.busy": "2024-09-24T22:43:13.388144Z",
     "iopub.status.idle": "2024-09-24T22:43:13.390715Z",
     "shell.execute_reply": "2024-09-24T22:43:13.390202Z"
    }
   },
   "outputs": [],
   "source": [
    "#TODO\n"
   ]
  }
 ],
 "metadata": {
  "kernelspec": {
   "display_name": "Python 3",
   "language": "python",
   "name": "python3"
  },
  "language_info": {
   "codemirror_mode": {
    "name": "ipython",
    "version": 3
   },
   "file_extension": ".py",
   "mimetype": "text/x-python",
   "name": "python",
   "nbconvert_exporter": "python",
   "pygments_lexer": "ipython3",
   "version": "3.10.12"
  }
 },
 "nbformat": 4,
 "nbformat_minor": 4
}
