{
 "cells": [
  {
   "cell_type": "code",
   "execution_count": 1,
   "metadata": {
    "execution": {
     "iopub.execute_input": "2023-12-07T05:22:29.271266Z",
     "iopub.status.busy": "2023-12-07T05:22:29.271069Z",
     "iopub.status.idle": "2023-12-07T05:22:29.521513Z",
     "shell.execute_reply": "2023-12-07T05:22:29.520859Z"
    }
   },
   "outputs": [],
   "source": [
    "import pandas as pd\n"
   ]
  },
  {
   "cell_type": "markdown",
   "metadata": {},
   "source": [
    "TODO\n"
   ]
  },
  {
   "cell_type": "code",
   "execution_count": 2,
   "metadata": {
    "execution": {
     "iopub.execute_input": "2023-12-07T05:22:29.524739Z",
     "iopub.status.busy": "2023-12-07T05:22:29.524296Z",
     "iopub.status.idle": "2023-12-07T05:22:29.527098Z",
     "shell.execute_reply": "2023-12-07T05:22:29.526555Z"
    }
   },
   "outputs": [],
   "source": [
    "#TODO\n"
   ]
  }
 ],
 "metadata": {
  "kernelspec": {
   "display_name": "Python 3",
   "language": "python",
   "name": "python3"
  },
  "language_info": {
   "codemirror_mode": {
    "name": "ipython",
    "version": 3
   },
   "file_extension": ".py",
   "mimetype": "text/x-python",
   "name": "python",
   "nbconvert_exporter": "python",
   "pygments_lexer": "ipython3",
   "version": "3.10.12"
  }
 },
 "nbformat": 4,
 "nbformat_minor": 4
}
