{
 "cells": [
  {
   "cell_type": "code",
   "execution_count": 1,
   "metadata": {
    "execution": {
     "iopub.execute_input": "2023-12-03T02:29:59.595014Z",
     "iopub.status.busy": "2023-12-03T02:29:59.594835Z",
     "iopub.status.idle": "2023-12-03T02:29:59.815556Z",
     "shell.execute_reply": "2023-12-03T02:29:59.814893Z"
    }
   },
   "outputs": [],
   "source": [
    "import pandas as pd\n"
   ]
  },
  {
   "cell_type": "markdown",
   "metadata": {},
   "source": [
    "TODO\n"
   ]
  },
  {
   "cell_type": "code",
   "execution_count": 2,
   "metadata": {
    "execution": {
     "iopub.execute_input": "2023-12-03T02:29:59.818606Z",
     "iopub.status.busy": "2023-12-03T02:29:59.818055Z",
     "iopub.status.idle": "2023-12-03T02:29:59.820906Z",
     "shell.execute_reply": "2023-12-03T02:29:59.820371Z"
    }
   },
   "outputs": [],
   "source": [
    "#TODO\n"
   ]
  }
 ],
 "metadata": {
  "kernelspec": {
   "display_name": "Python 3",
   "language": "python",
   "name": "python3"
  },
  "language_info": {
   "codemirror_mode": {
    "name": "ipython",
    "version": 3
   },
   "file_extension": ".py",
   "mimetype": "text/x-python",
   "name": "python",
   "nbconvert_exporter": "python",
   "pygments_lexer": "ipython3",
   "version": "3.10.12"
  }
 },
 "nbformat": 4,
 "nbformat_minor": 4
}
