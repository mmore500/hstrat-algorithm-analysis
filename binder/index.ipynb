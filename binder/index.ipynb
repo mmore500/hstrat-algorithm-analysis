{
 "cells": [
  {
   "cell_type": "code",
   "execution_count": 1,
   "metadata": {
    "execution": {
     "iopub.execute_input": "2025-03-02T00:13:21.686175Z",
     "iopub.status.busy": "2025-03-02T00:13:21.685719Z",
     "iopub.status.idle": "2025-03-02T00:13:21.910480Z",
     "shell.execute_reply": "2025-03-02T00:13:21.909939Z"
    }
   },
   "outputs": [],
   "source": [
    "import pandas as pd\n"
   ]
  },
  {
   "cell_type": "markdown",
   "metadata": {},
   "source": [
    "TODO\n"
   ]
  },
  {
   "cell_type": "code",
   "execution_count": 2,
   "metadata": {
    "execution": {
     "iopub.execute_input": "2025-03-02T00:13:21.913421Z",
     "iopub.status.busy": "2025-03-02T00:13:21.913063Z",
     "iopub.status.idle": "2025-03-02T00:13:21.915773Z",
     "shell.execute_reply": "2025-03-02T00:13:21.915220Z"
    }
   },
   "outputs": [],
   "source": [
    "#TODO\n"
   ]
  }
 ],
 "metadata": {
  "kernelspec": {
   "display_name": "Python 3",
   "language": "python",
   "name": "python3"
  },
  "language_info": {
   "codemirror_mode": {
    "name": "ipython",
    "version": 3
   },
   "file_extension": ".py",
   "mimetype": "text/x-python",
   "name": "python",
   "nbconvert_exporter": "python",
   "pygments_lexer": "ipython3",
   "version": "3.10.12"
  }
 },
 "nbformat": 4,
 "nbformat_minor": 4
}
