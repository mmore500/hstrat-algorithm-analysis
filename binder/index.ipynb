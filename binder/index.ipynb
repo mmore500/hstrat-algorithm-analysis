{
 "cells": [
  {
   "cell_type": "code",
   "execution_count": 1,
   "metadata": {
    "execution": {
     "iopub.execute_input": "2025-02-09T00:12:58.475983Z",
     "iopub.status.busy": "2025-02-09T00:12:58.475813Z",
     "iopub.status.idle": "2025-02-09T00:12:58.699200Z",
     "shell.execute_reply": "2025-02-09T00:12:58.698691Z"
    }
   },
   "outputs": [],
   "source": [
    "import pandas as pd\n"
   ]
  },
  {
   "cell_type": "markdown",
   "metadata": {},
   "source": [
    "TODO\n"
   ]
  },
  {
   "cell_type": "code",
   "execution_count": 2,
   "metadata": {
    "execution": {
     "iopub.execute_input": "2025-02-09T00:12:58.702217Z",
     "iopub.status.busy": "2025-02-09T00:12:58.701740Z",
     "iopub.status.idle": "2025-02-09T00:12:58.704570Z",
     "shell.execute_reply": "2025-02-09T00:12:58.703921Z"
    }
   },
   "outputs": [],
   "source": [
    "#TODO\n"
   ]
  }
 ],
 "metadata": {
  "kernelspec": {
   "display_name": "Python 3",
   "language": "python",
   "name": "python3"
  },
  "language_info": {
   "codemirror_mode": {
    "name": "ipython",
    "version": 3
   },
   "file_extension": ".py",
   "mimetype": "text/x-python",
   "name": "python",
   "nbconvert_exporter": "python",
   "pygments_lexer": "ipython3",
   "version": "3.10.12"
  }
 },
 "nbformat": 4,
 "nbformat_minor": 4
}
