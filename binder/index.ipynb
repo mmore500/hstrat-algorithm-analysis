{
 "cells": [
  {
   "cell_type": "code",
   "execution_count": 1,
   "metadata": {
    "execution": {
     "iopub.execute_input": "2025-01-12T00:13:18.173205Z",
     "iopub.status.busy": "2025-01-12T00:13:18.172782Z",
     "iopub.status.idle": "2025-01-12T00:13:18.398156Z",
     "shell.execute_reply": "2025-01-12T00:13:18.397513Z"
    }
   },
   "outputs": [],
   "source": [
    "import pandas as pd\n"
   ]
  },
  {
   "cell_type": "markdown",
   "metadata": {},
   "source": [
    "TODO\n"
   ]
  },
  {
   "cell_type": "code",
   "execution_count": 2,
   "metadata": {
    "execution": {
     "iopub.execute_input": "2025-01-12T00:13:18.401059Z",
     "iopub.status.busy": "2025-01-12T00:13:18.400646Z",
     "iopub.status.idle": "2025-01-12T00:13:18.403360Z",
     "shell.execute_reply": "2025-01-12T00:13:18.402897Z"
    }
   },
   "outputs": [],
   "source": [
    "#TODO\n"
   ]
  }
 ],
 "metadata": {
  "kernelspec": {
   "display_name": "Python 3",
   "language": "python",
   "name": "python3"
  },
  "language_info": {
   "codemirror_mode": {
    "name": "ipython",
    "version": 3
   },
   "file_extension": ".py",
   "mimetype": "text/x-python",
   "name": "python",
   "nbconvert_exporter": "python",
   "pygments_lexer": "ipython3",
   "version": "3.10.12"
  }
 },
 "nbformat": 4,
 "nbformat_minor": 4
}
