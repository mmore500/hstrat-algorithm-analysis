{
 "cells": [
  {
   "cell_type": "code",
   "execution_count": 1,
   "metadata": {
    "execution": {
     "iopub.execute_input": "2024-11-17T00:13:10.450258Z",
     "iopub.status.busy": "2024-11-17T00:13:10.450084Z",
     "iopub.status.idle": "2024-11-17T00:13:10.692051Z",
     "shell.execute_reply": "2024-11-17T00:13:10.691537Z"
    }
   },
   "outputs": [],
   "source": [
    "import pandas as pd\n"
   ]
  },
  {
   "cell_type": "markdown",
   "metadata": {},
   "source": [
    "TODO\n"
   ]
  },
  {
   "cell_type": "code",
   "execution_count": 2,
   "metadata": {
    "execution": {
     "iopub.execute_input": "2024-11-17T00:13:10.694878Z",
     "iopub.status.busy": "2024-11-17T00:13:10.694472Z",
     "iopub.status.idle": "2024-11-17T00:13:10.697135Z",
     "shell.execute_reply": "2024-11-17T00:13:10.696665Z"
    }
   },
   "outputs": [],
   "source": [
    "#TODO\n"
   ]
  }
 ],
 "metadata": {
  "kernelspec": {
   "display_name": "Python 3",
   "language": "python",
   "name": "python3"
  },
  "language_info": {
   "codemirror_mode": {
    "name": "ipython",
    "version": 3
   },
   "file_extension": ".py",
   "mimetype": "text/x-python",
   "name": "python",
   "nbconvert_exporter": "python",
   "pygments_lexer": "ipython3",
   "version": "3.10.12"
  }
 },
 "nbformat": 4,
 "nbformat_minor": 4
}
