{
 "cells": [
  {
   "cell_type": "code",
   "execution_count": 1,
   "metadata": {
    "execution": {
     "iopub.execute_input": "2024-09-23T03:11:45.588083Z",
     "iopub.status.busy": "2024-09-23T03:11:45.587911Z",
     "iopub.status.idle": "2024-09-23T03:11:45.806148Z",
     "shell.execute_reply": "2024-09-23T03:11:45.805503Z"
    }
   },
   "outputs": [],
   "source": [
    "import pandas as pd\n"
   ]
  },
  {
   "cell_type": "markdown",
   "metadata": {},
   "source": [
    "TODO\n"
   ]
  },
  {
   "cell_type": "code",
   "execution_count": 2,
   "metadata": {
    "execution": {
     "iopub.execute_input": "2024-09-23T03:11:45.809089Z",
     "iopub.status.busy": "2024-09-23T03:11:45.808689Z",
     "iopub.status.idle": "2024-09-23T03:11:45.811340Z",
     "shell.execute_reply": "2024-09-23T03:11:45.810838Z"
    }
   },
   "outputs": [],
   "source": [
    "#TODO\n"
   ]
  }
 ],
 "metadata": {
  "kernelspec": {
   "display_name": "Python 3",
   "language": "python",
   "name": "python3"
  },
  "language_info": {
   "codemirror_mode": {
    "name": "ipython",
    "version": 3
   },
   "file_extension": ".py",
   "mimetype": "text/x-python",
   "name": "python",
   "nbconvert_exporter": "python",
   "pygments_lexer": "ipython3",
   "version": "3.10.12"
  }
 },
 "nbformat": 4,
 "nbformat_minor": 4
}
