{
 "cells": [
  {
   "cell_type": "code",
   "execution_count": 1,
   "metadata": {
    "execution": {
     "iopub.execute_input": "2023-12-03T22:46:54.332303Z",
     "iopub.status.busy": "2023-12-03T22:46:54.332127Z",
     "iopub.status.idle": "2023-12-03T22:46:54.543902Z",
     "shell.execute_reply": "2023-12-03T22:46:54.543399Z"
    }
   },
   "outputs": [],
   "source": [
    "import pandas as pd\n"
   ]
  },
  {
   "cell_type": "markdown",
   "metadata": {},
   "source": [
    "TODO\n"
   ]
  },
  {
   "cell_type": "code",
   "execution_count": 2,
   "metadata": {
    "execution": {
     "iopub.execute_input": "2023-12-03T22:46:54.546844Z",
     "iopub.status.busy": "2023-12-03T22:46:54.546360Z",
     "iopub.status.idle": "2023-12-03T22:46:54.549169Z",
     "shell.execute_reply": "2023-12-03T22:46:54.548602Z"
    }
   },
   "outputs": [],
   "source": [
    "#TODO\n"
   ]
  }
 ],
 "metadata": {
  "kernelspec": {
   "display_name": "Python 3",
   "language": "python",
   "name": "python3"
  },
  "language_info": {
   "codemirror_mode": {
    "name": "ipython",
    "version": 3
   },
   "file_extension": ".py",
   "mimetype": "text/x-python",
   "name": "python",
   "nbconvert_exporter": "python",
   "pygments_lexer": "ipython3",
   "version": "3.10.12"
  }
 },
 "nbformat": 4,
 "nbformat_minor": 4
}
