{
 "cells": [
  {
   "cell_type": "code",
   "execution_count": 1,
   "metadata": {
    "execution": {
     "iopub.execute_input": "2024-09-01T00:13:12.887131Z",
     "iopub.status.busy": "2024-09-01T00:13:12.886712Z",
     "iopub.status.idle": "2024-09-01T00:13:13.119452Z",
     "shell.execute_reply": "2024-09-01T00:13:13.118867Z"
    }
   },
   "outputs": [],
   "source": [
    "import pandas as pd\n"
   ]
  },
  {
   "cell_type": "markdown",
   "metadata": {},
   "source": [
    "TODO\n"
   ]
  },
  {
   "cell_type": "code",
   "execution_count": 2,
   "metadata": {
    "execution": {
     "iopub.execute_input": "2024-09-01T00:13:13.122556Z",
     "iopub.status.busy": "2024-09-01T00:13:13.121942Z",
     "iopub.status.idle": "2024-09-01T00:13:13.124980Z",
     "shell.execute_reply": "2024-09-01T00:13:13.124371Z"
    }
   },
   "outputs": [],
   "source": [
    "#TODO\n"
   ]
  }
 ],
 "metadata": {
  "kernelspec": {
   "display_name": "Python 3",
   "language": "python",
   "name": "python3"
  },
  "language_info": {
   "codemirror_mode": {
    "name": "ipython",
    "version": 3
   },
   "file_extension": ".py",
   "mimetype": "text/x-python",
   "name": "python",
   "nbconvert_exporter": "python",
   "pygments_lexer": "ipython3",
   "version": "3.10.12"
  }
 },
 "nbformat": 4,
 "nbformat_minor": 4
}
