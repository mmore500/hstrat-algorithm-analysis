{
 "cells": [
  {
   "cell_type": "code",
   "execution_count": 1,
   "metadata": {
    "execution": {
     "iopub.execute_input": "2023-12-03T05:49:30.992736Z",
     "iopub.status.busy": "2023-12-03T05:49:30.992566Z",
     "iopub.status.idle": "2023-12-03T05:49:31.223063Z",
     "shell.execute_reply": "2023-12-03T05:49:31.222377Z"
    }
   },
   "outputs": [],
   "source": [
    "import pandas as pd\n"
   ]
  },
  {
   "cell_type": "markdown",
   "metadata": {},
   "source": [
    "TODO\n"
   ]
  },
  {
   "cell_type": "code",
   "execution_count": 2,
   "metadata": {
    "execution": {
     "iopub.execute_input": "2023-12-03T05:49:31.226015Z",
     "iopub.status.busy": "2023-12-03T05:49:31.225587Z",
     "iopub.status.idle": "2023-12-03T05:49:31.228340Z",
     "shell.execute_reply": "2023-12-03T05:49:31.227859Z"
    }
   },
   "outputs": [],
   "source": [
    "#TODO\n"
   ]
  }
 ],
 "metadata": {
  "kernelspec": {
   "display_name": "Python 3",
   "language": "python",
   "name": "python3"
  },
  "language_info": {
   "codemirror_mode": {
    "name": "ipython",
    "version": 3
   },
   "file_extension": ".py",
   "mimetype": "text/x-python",
   "name": "python",
   "nbconvert_exporter": "python",
   "pygments_lexer": "ipython3",
   "version": "3.10.12"
  }
 },
 "nbformat": 4,
 "nbformat_minor": 4
}
