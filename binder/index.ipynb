{
 "cells": [
  {
   "cell_type": "code",
   "execution_count": 1,
   "metadata": {
    "execution": {
     "iopub.execute_input": "2023-12-10T00:10:33.129970Z",
     "iopub.status.busy": "2023-12-10T00:10:33.129796Z",
     "iopub.status.idle": "2023-12-10T00:10:33.359330Z",
     "shell.execute_reply": "2023-12-10T00:10:33.358799Z"
    }
   },
   "outputs": [],
   "source": [
    "import pandas as pd\n"
   ]
  },
  {
   "cell_type": "markdown",
   "metadata": {},
   "source": [
    "TODO\n"
   ]
  },
  {
   "cell_type": "code",
   "execution_count": 2,
   "metadata": {
    "execution": {
     "iopub.execute_input": "2023-12-10T00:10:33.362264Z",
     "iopub.status.busy": "2023-12-10T00:10:33.361876Z",
     "iopub.status.idle": "2023-12-10T00:10:33.364616Z",
     "shell.execute_reply": "2023-12-10T00:10:33.364061Z"
    }
   },
   "outputs": [],
   "source": [
    "#TODO\n"
   ]
  }
 ],
 "metadata": {
  "kernelspec": {
   "display_name": "Python 3",
   "language": "python",
   "name": "python3"
  },
  "language_info": {
   "codemirror_mode": {
    "name": "ipython",
    "version": 3
   },
   "file_extension": ".py",
   "mimetype": "text/x-python",
   "name": "python",
   "nbconvert_exporter": "python",
   "pygments_lexer": "ipython3",
   "version": "3.10.12"
  }
 },
 "nbformat": 4,
 "nbformat_minor": 4
}
